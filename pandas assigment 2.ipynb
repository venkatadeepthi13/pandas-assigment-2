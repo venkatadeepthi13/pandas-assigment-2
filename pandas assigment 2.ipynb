{
 "cells": [
  {
   "cell_type": "code",
   "execution_count": 2,
   "id": "cf0b47d7",
   "metadata": {},
   "outputs": [],
   "source": [
    "import numpy as np\n",
    "import pandas as pd"
   ]
  },
  {
   "cell_type": "code",
   "execution_count": 3,
   "id": "82eb610c",
   "metadata": {},
   "outputs": [],
   "source": [
    "data=pd.read_csv(r\"C:\\Users\\DELL\\Downloads\\imdb_anime.csv\")"
   ]
  },
  {
   "cell_type": "code",
   "execution_count": 4,
   "id": "485b8dbf",
   "metadata": {},
   "outputs": [
    {
     "data": {
      "text/html": [
       "<div>\n",
       "<style scoped>\n",
       "    .dataframe tbody tr th:only-of-type {\n",
       "        vertical-align: middle;\n",
       "    }\n",
       "\n",
       "    .dataframe tbody tr th {\n",
       "        vertical-align: top;\n",
       "    }\n",
       "\n",
       "    .dataframe thead th {\n",
       "        text-align: right;\n",
       "    }\n",
       "</style>\n",
       "<table border=\"1\" class=\"dataframe\">\n",
       "  <thead>\n",
       "    <tr style=\"text-align: right;\">\n",
       "      <th></th>\n",
       "      <th>Title</th>\n",
       "      <th>Genre</th>\n",
       "      <th>User Rating</th>\n",
       "      <th>Number of Votes</th>\n",
       "      <th>Runtime</th>\n",
       "      <th>Year</th>\n",
       "      <th>Summary</th>\n",
       "      <th>Stars</th>\n",
       "      <th>Certificate</th>\n",
       "      <th>Metascore</th>\n",
       "      <th>Gross</th>\n",
       "      <th>Episode</th>\n",
       "      <th>Episode Title</th>\n",
       "    </tr>\n",
       "  </thead>\n",
       "  <tbody>\n",
       "    <tr>\n",
       "      <th>0</th>\n",
       "      <td>One Piece</td>\n",
       "      <td>Animation, Action, Adventure</td>\n",
       "      <td>8.9</td>\n",
       "      <td>187,689</td>\n",
       "      <td>24 min</td>\n",
       "      <td>(1999– )</td>\n",
       "      <td>Follows the adventures of Monkey D. Luffy and ...</td>\n",
       "      <td>Mayumi Tanaka,Laurent Vernin,Akemi Okamura,Ton...</td>\n",
       "      <td>TV-14</td>\n",
       "      <td>NaN</td>\n",
       "      <td>187689</td>\n",
       "      <td>0</td>\n",
       "      <td>NaN</td>\n",
       "    </tr>\n",
       "    <tr>\n",
       "      <th>1</th>\n",
       "      <td>Teenage Mutant Ninja Turtles: Mutant Mayhem</td>\n",
       "      <td>Animation, Action, Adventure</td>\n",
       "      <td>7.4</td>\n",
       "      <td>28,895</td>\n",
       "      <td>99 min</td>\n",
       "      <td>(2023)</td>\n",
       "      <td>The film follows the Turtle brothers as they w...</td>\n",
       "      <td>NaN</td>\n",
       "      <td>PG</td>\n",
       "      <td>74</td>\n",
       "      <td>28895</td>\n",
       "      <td>0</td>\n",
       "      <td>NaN</td>\n",
       "    </tr>\n",
       "    <tr>\n",
       "      <th>2</th>\n",
       "      <td>The Super Mario Bros. Movie</td>\n",
       "      <td>Animation, Adventure, Comedy</td>\n",
       "      <td>7.1</td>\n",
       "      <td>189,108</td>\n",
       "      <td>92 min</td>\n",
       "      <td>(2023)</td>\n",
       "      <td>A plumber named Mario travels through an under...</td>\n",
       "      <td>NaN</td>\n",
       "      <td>PG</td>\n",
       "      <td>46</td>\n",
       "      <td>189108</td>\n",
       "      <td>0</td>\n",
       "      <td>NaN</td>\n",
       "    </tr>\n",
       "    <tr>\n",
       "      <th>3</th>\n",
       "      <td>Attack on Titan</td>\n",
       "      <td>Animation, Action, Adventure</td>\n",
       "      <td>9.1</td>\n",
       "      <td>434,457</td>\n",
       "      <td>24 min</td>\n",
       "      <td>(2013–2023)</td>\n",
       "      <td>After his hometown is destroyed and his mother...</td>\n",
       "      <td>Josh Grelle,Bryce Papenbrook,Yûki Kaji,Yui Ish...</td>\n",
       "      <td>TV-MA</td>\n",
       "      <td>NaN</td>\n",
       "      <td>434457</td>\n",
       "      <td>0</td>\n",
       "      <td>NaN</td>\n",
       "    </tr>\n",
       "    <tr>\n",
       "      <th>4</th>\n",
       "      <td>Jujutsu Kaisen</td>\n",
       "      <td>Animation, Action, Adventure</td>\n",
       "      <td>8.5</td>\n",
       "      <td>82,909</td>\n",
       "      <td>24 min</td>\n",
       "      <td>(2020– )</td>\n",
       "      <td>A boy swallows a cursed talisman - the finger ...</td>\n",
       "      <td>Junya Enoki,Yûichi Nakamura,Adam McArthur,Yuma...</td>\n",
       "      <td>TV-MA</td>\n",
       "      <td>NaN</td>\n",
       "      <td>82909</td>\n",
       "      <td>0</td>\n",
       "      <td>NaN</td>\n",
       "    </tr>\n",
       "    <tr>\n",
       "      <th>...</th>\n",
       "      <td>...</td>\n",
       "      <td>...</td>\n",
       "      <td>...</td>\n",
       "      <td>...</td>\n",
       "      <td>...</td>\n",
       "      <td>...</td>\n",
       "      <td>...</td>\n",
       "      <td>...</td>\n",
       "      <td>...</td>\n",
       "      <td>...</td>\n",
       "      <td>...</td>\n",
       "      <td>...</td>\n",
       "      <td>...</td>\n",
       "    </tr>\n",
       "    <tr>\n",
       "      <th>45712</th>\n",
       "      <td>Demon Slayer: Kimetsu no Yaiba</td>\n",
       "      <td>Animation, Action, Adventure</td>\n",
       "      <td>7.3</td>\n",
       "      <td>3,432</td>\n",
       "      <td>24 min</td>\n",
       "      <td>(2019– )</td>\n",
       "      <td>Tanjiro heads to his next location southeast; ...</td>\n",
       "      <td>NaN</td>\n",
       "      <td>TV-14</td>\n",
       "      <td>NaN</td>\n",
       "      <td>3432</td>\n",
       "      <td>1</td>\n",
       "      <td>Tsuzumi Mansion</td>\n",
       "    </tr>\n",
       "    <tr>\n",
       "      <th>45713</th>\n",
       "      <td>Demon Slayer: Kimetsu no Yaiba</td>\n",
       "      <td>Animation, Action, Adventure</td>\n",
       "      <td>7.9</td>\n",
       "      <td>3,309</td>\n",
       "      <td>24 min</td>\n",
       "      <td>(2019– )</td>\n",
       "      <td>Tanjiro gets separated from Zenitsu when he en...</td>\n",
       "      <td>NaN</td>\n",
       "      <td>TV-MA</td>\n",
       "      <td>NaN</td>\n",
       "      <td>3309</td>\n",
       "      <td>1</td>\n",
       "      <td>The Boar Bares Its Fangs, Zenitsu Sleeps</td>\n",
       "    </tr>\n",
       "    <tr>\n",
       "      <th>45714</th>\n",
       "      <td>One Piece</td>\n",
       "      <td>Animation, Action, Adventure</td>\n",
       "      <td>9.4</td>\n",
       "      <td>2,743</td>\n",
       "      <td>NaN</td>\n",
       "      <td>(1999– )</td>\n",
       "      <td>Carrot tells Sanji the news about Pedro. Germa...</td>\n",
       "      <td>Mayumi Tanaka,Tom Henry,Masako Katsuki,Mami Ko...</td>\n",
       "      <td>TV-14</td>\n",
       "      <td>NaN</td>\n",
       "      <td>2743</td>\n",
       "      <td>1</td>\n",
       "      <td>Time for Farewell! Pudding's One Last Request!</td>\n",
       "    </tr>\n",
       "    <tr>\n",
       "      <th>45715</th>\n",
       "      <td>Marmalade Boy</td>\n",
       "      <td>Animation, Comedy, Drama</td>\n",
       "      <td>NaN</td>\n",
       "      <td>NaN</td>\n",
       "      <td>24 min</td>\n",
       "      <td>(1994–2005)</td>\n",
       "      <td>NaN</td>\n",
       "      <td>Ogie Banks,Deborah Sale Butler,John DeMita,Ric...</td>\n",
       "      <td>Not Rated</td>\n",
       "      <td>NaN</td>\n",
       "      <td>NaN</td>\n",
       "      <td>1</td>\n",
       "      <td>Hijiri naru yoru (ivu nanoni hitori bocchi...)</td>\n",
       "    </tr>\n",
       "    <tr>\n",
       "      <th>45716</th>\n",
       "      <td>Cinderella Nine</td>\n",
       "      <td>Animation, Drama, Sport</td>\n",
       "      <td>6.0</td>\n",
       "      <td>6</td>\n",
       "      <td>24 min</td>\n",
       "      <td>(2019– )</td>\n",
       "      <td>On her very first day at Satogahama Municipal ...</td>\n",
       "      <td>NaN</td>\n",
       "      <td>NaN</td>\n",
       "      <td>NaN</td>\n",
       "      <td>6</td>\n",
       "      <td>1</td>\n",
       "      <td>Play Ball!</td>\n",
       "    </tr>\n",
       "  </tbody>\n",
       "</table>\n",
       "<p>45717 rows × 13 columns</p>\n",
       "</div>"
      ],
      "text/plain": [
       "                                             Title  \\\n",
       "0                                        One Piece   \n",
       "1      Teenage Mutant Ninja Turtles: Mutant Mayhem   \n",
       "2                      The Super Mario Bros. Movie   \n",
       "3                                  Attack on Titan   \n",
       "4                                   Jujutsu Kaisen   \n",
       "...                                            ...   \n",
       "45712               Demon Slayer: Kimetsu no Yaiba   \n",
       "45713               Demon Slayer: Kimetsu no Yaiba   \n",
       "45714                                    One Piece   \n",
       "45715                                Marmalade Boy   \n",
       "45716                              Cinderella Nine   \n",
       "\n",
       "                              Genre User Rating Number of Votes Runtime  \\\n",
       "0      Animation, Action, Adventure         8.9         187,689  24 min   \n",
       "1      Animation, Action, Adventure         7.4          28,895  99 min   \n",
       "2      Animation, Adventure, Comedy         7.1         189,108  92 min   \n",
       "3      Animation, Action, Adventure         9.1         434,457  24 min   \n",
       "4      Animation, Action, Adventure         8.5          82,909  24 min   \n",
       "...                             ...         ...             ...     ...   \n",
       "45712  Animation, Action, Adventure         7.3           3,432  24 min   \n",
       "45713  Animation, Action, Adventure         7.9           3,309  24 min   \n",
       "45714  Animation, Action, Adventure         9.4           2,743     NaN   \n",
       "45715      Animation, Comedy, Drama         NaN             NaN  24 min   \n",
       "45716       Animation, Drama, Sport         6.0               6  24 min   \n",
       "\n",
       "              Year                                            Summary  \\\n",
       "0         (1999– )  Follows the adventures of Monkey D. Luffy and ...   \n",
       "1           (2023)  The film follows the Turtle brothers as they w...   \n",
       "2           (2023)  A plumber named Mario travels through an under...   \n",
       "3      (2013–2023)  After his hometown is destroyed and his mother...   \n",
       "4         (2020– )  A boy swallows a cursed talisman - the finger ...   \n",
       "...            ...                                                ...   \n",
       "45712     (2019– )  Tanjiro heads to his next location southeast; ...   \n",
       "45713     (2019– )  Tanjiro gets separated from Zenitsu when he en...   \n",
       "45714     (1999– )  Carrot tells Sanji the news about Pedro. Germa...   \n",
       "45715  (1994–2005)                                                NaN   \n",
       "45716     (2019– )  On her very first day at Satogahama Municipal ...   \n",
       "\n",
       "                                                   Stars Certificate  \\\n",
       "0      Mayumi Tanaka,Laurent Vernin,Akemi Okamura,Ton...       TV-14   \n",
       "1                                                    NaN          PG   \n",
       "2                                                    NaN          PG   \n",
       "3      Josh Grelle,Bryce Papenbrook,Yûki Kaji,Yui Ish...       TV-MA   \n",
       "4      Junya Enoki,Yûichi Nakamura,Adam McArthur,Yuma...       TV-MA   \n",
       "...                                                  ...         ...   \n",
       "45712                                                NaN       TV-14   \n",
       "45713                                                NaN       TV-MA   \n",
       "45714  Mayumi Tanaka,Tom Henry,Masako Katsuki,Mami Ko...       TV-14   \n",
       "45715  Ogie Banks,Deborah Sale Butler,John DeMita,Ric...   Not Rated   \n",
       "45716                                                NaN         NaN   \n",
       "\n",
       "        Metascore   Gross Episode  \\\n",
       "0             NaN  187689       0   \n",
       "1      74           28895       0   \n",
       "2      46          189108       0   \n",
       "3             NaN  434457       0   \n",
       "4             NaN   82909       0   \n",
       "...           ...     ...     ...   \n",
       "45712         NaN    3432       1   \n",
       "45713         NaN    3309       1   \n",
       "45714         NaN    2743       1   \n",
       "45715         NaN     NaN       1   \n",
       "45716         NaN       6       1   \n",
       "\n",
       "                                        Episode Title  \n",
       "0                                                 NaN  \n",
       "1                                                 NaN  \n",
       "2                                                 NaN  \n",
       "3                                                 NaN  \n",
       "4                                                 NaN  \n",
       "...                                               ...  \n",
       "45712                                 Tsuzumi Mansion  \n",
       "45713        The Boar Bares Its Fangs, Zenitsu Sleeps  \n",
       "45714  Time for Farewell! Pudding's One Last Request!  \n",
       "45715  Hijiri naru yoru (ivu nanoni hitori bocchi...)  \n",
       "45716                                      Play Ball!  \n",
       "\n",
       "[45717 rows x 13 columns]"
      ]
     },
     "execution_count": 4,
     "metadata": {},
     "output_type": "execute_result"
    }
   ],
   "source": [
    "data"
   ]
  },
  {
   "cell_type": "code",
   "execution_count": 5,
   "id": "41faf5cf",
   "metadata": {},
   "outputs": [
    {
     "name": "stdout",
     "output_type": "stream",
     "text": [
      "<class 'pandas.core.frame.DataFrame'>\n",
      "RangeIndex: 45717 entries, 0 to 45716\n",
      "Data columns (total 13 columns):\n",
      " #   Column           Non-Null Count  Dtype \n",
      "---  ------           --------------  ----- \n",
      " 0   Title            45717 non-null  object\n",
      " 1   Genre            45717 non-null  object\n",
      " 2   User Rating      25009 non-null  object\n",
      " 3   Number of Votes  25009 non-null  object\n",
      " 4   Runtime          32549 non-null  object\n",
      " 5   Year             45591 non-null  object\n",
      " 6   Summary          23547 non-null  object\n",
      " 7   Stars            13676 non-null  object\n",
      " 8   Certificate      28694 non-null  object\n",
      " 9   Metascore        341 non-null    object\n",
      " 10  Gross            25009 non-null  object\n",
      " 11  Episode          45717 non-null  object\n",
      " 12  Episode Title    34910 non-null  object\n",
      "dtypes: object(13)\n",
      "memory usage: 4.5+ MB\n"
     ]
    }
   ],
   "source": [
    "data.info()"
   ]
  },
  {
   "cell_type": "code",
   "execution_count": 6,
   "id": "bd93009a",
   "metadata": {},
   "outputs": [],
   "source": [
    "data1=data.copy()"
   ]
  },
  {
   "cell_type": "code",
   "execution_count": 7,
   "id": "0c79e9cc",
   "metadata": {},
   "outputs": [
    {
     "data": {
      "text/html": [
       "<div>\n",
       "<style scoped>\n",
       "    .dataframe tbody tr th:only-of-type {\n",
       "        vertical-align: middle;\n",
       "    }\n",
       "\n",
       "    .dataframe tbody tr th {\n",
       "        vertical-align: top;\n",
       "    }\n",
       "\n",
       "    .dataframe thead th {\n",
       "        text-align: right;\n",
       "    }\n",
       "</style>\n",
       "<table border=\"1\" class=\"dataframe\">\n",
       "  <thead>\n",
       "    <tr style=\"text-align: right;\">\n",
       "      <th></th>\n",
       "      <th>Title</th>\n",
       "      <th>Genre</th>\n",
       "      <th>User Rating</th>\n",
       "      <th>Number of Votes</th>\n",
       "      <th>Runtime</th>\n",
       "      <th>Year</th>\n",
       "      <th>Summary</th>\n",
       "      <th>Stars</th>\n",
       "      <th>Certificate</th>\n",
       "      <th>Metascore</th>\n",
       "      <th>Gross</th>\n",
       "      <th>Episode</th>\n",
       "      <th>Episode Title</th>\n",
       "    </tr>\n",
       "  </thead>\n",
       "  <tbody>\n",
       "    <tr>\n",
       "      <th>0</th>\n",
       "      <td>One Piece</td>\n",
       "      <td>Animation, Action, Adventure</td>\n",
       "      <td>8.9</td>\n",
       "      <td>187,689</td>\n",
       "      <td>24 min</td>\n",
       "      <td>(1999– )</td>\n",
       "      <td>Follows the adventures of Monkey D. Luffy and ...</td>\n",
       "      <td>Mayumi Tanaka,Laurent Vernin,Akemi Okamura,Ton...</td>\n",
       "      <td>TV-14</td>\n",
       "      <td>NaN</td>\n",
       "      <td>187689</td>\n",
       "      <td>0</td>\n",
       "      <td>NaN</td>\n",
       "    </tr>\n",
       "    <tr>\n",
       "      <th>1</th>\n",
       "      <td>Teenage Mutant Ninja Turtles: Mutant Mayhem</td>\n",
       "      <td>Animation, Action, Adventure</td>\n",
       "      <td>7.4</td>\n",
       "      <td>28,895</td>\n",
       "      <td>99 min</td>\n",
       "      <td>(2023)</td>\n",
       "      <td>The film follows the Turtle brothers as they w...</td>\n",
       "      <td>NaN</td>\n",
       "      <td>PG</td>\n",
       "      <td>74</td>\n",
       "      <td>28895</td>\n",
       "      <td>0</td>\n",
       "      <td>NaN</td>\n",
       "    </tr>\n",
       "    <tr>\n",
       "      <th>2</th>\n",
       "      <td>The Super Mario Bros. Movie</td>\n",
       "      <td>Animation, Adventure, Comedy</td>\n",
       "      <td>7.1</td>\n",
       "      <td>189,108</td>\n",
       "      <td>92 min</td>\n",
       "      <td>(2023)</td>\n",
       "      <td>A plumber named Mario travels through an under...</td>\n",
       "      <td>NaN</td>\n",
       "      <td>PG</td>\n",
       "      <td>46</td>\n",
       "      <td>189108</td>\n",
       "      <td>0</td>\n",
       "      <td>NaN</td>\n",
       "    </tr>\n",
       "    <tr>\n",
       "      <th>3</th>\n",
       "      <td>Attack on Titan</td>\n",
       "      <td>Animation, Action, Adventure</td>\n",
       "      <td>9.1</td>\n",
       "      <td>434,457</td>\n",
       "      <td>24 min</td>\n",
       "      <td>(2013–2023)</td>\n",
       "      <td>After his hometown is destroyed and his mother...</td>\n",
       "      <td>Josh Grelle,Bryce Papenbrook,Yûki Kaji,Yui Ish...</td>\n",
       "      <td>TV-MA</td>\n",
       "      <td>NaN</td>\n",
       "      <td>434457</td>\n",
       "      <td>0</td>\n",
       "      <td>NaN</td>\n",
       "    </tr>\n",
       "    <tr>\n",
       "      <th>4</th>\n",
       "      <td>Jujutsu Kaisen</td>\n",
       "      <td>Animation, Action, Adventure</td>\n",
       "      <td>8.5</td>\n",
       "      <td>82,909</td>\n",
       "      <td>24 min</td>\n",
       "      <td>(2020– )</td>\n",
       "      <td>A boy swallows a cursed talisman - the finger ...</td>\n",
       "      <td>Junya Enoki,Yûichi Nakamura,Adam McArthur,Yuma...</td>\n",
       "      <td>TV-MA</td>\n",
       "      <td>NaN</td>\n",
       "      <td>82909</td>\n",
       "      <td>0</td>\n",
       "      <td>NaN</td>\n",
       "    </tr>\n",
       "    <tr>\n",
       "      <th>...</th>\n",
       "      <td>...</td>\n",
       "      <td>...</td>\n",
       "      <td>...</td>\n",
       "      <td>...</td>\n",
       "      <td>...</td>\n",
       "      <td>...</td>\n",
       "      <td>...</td>\n",
       "      <td>...</td>\n",
       "      <td>...</td>\n",
       "      <td>...</td>\n",
       "      <td>...</td>\n",
       "      <td>...</td>\n",
       "      <td>...</td>\n",
       "    </tr>\n",
       "    <tr>\n",
       "      <th>45712</th>\n",
       "      <td>Demon Slayer: Kimetsu no Yaiba</td>\n",
       "      <td>Animation, Action, Adventure</td>\n",
       "      <td>7.3</td>\n",
       "      <td>3,432</td>\n",
       "      <td>24 min</td>\n",
       "      <td>(2019– )</td>\n",
       "      <td>Tanjiro heads to his next location southeast; ...</td>\n",
       "      <td>NaN</td>\n",
       "      <td>TV-14</td>\n",
       "      <td>NaN</td>\n",
       "      <td>3432</td>\n",
       "      <td>1</td>\n",
       "      <td>Tsuzumi Mansion</td>\n",
       "    </tr>\n",
       "    <tr>\n",
       "      <th>45713</th>\n",
       "      <td>Demon Slayer: Kimetsu no Yaiba</td>\n",
       "      <td>Animation, Action, Adventure</td>\n",
       "      <td>7.9</td>\n",
       "      <td>3,309</td>\n",
       "      <td>24 min</td>\n",
       "      <td>(2019– )</td>\n",
       "      <td>Tanjiro gets separated from Zenitsu when he en...</td>\n",
       "      <td>NaN</td>\n",
       "      <td>TV-MA</td>\n",
       "      <td>NaN</td>\n",
       "      <td>3309</td>\n",
       "      <td>1</td>\n",
       "      <td>The Boar Bares Its Fangs, Zenitsu Sleeps</td>\n",
       "    </tr>\n",
       "    <tr>\n",
       "      <th>45714</th>\n",
       "      <td>One Piece</td>\n",
       "      <td>Animation, Action, Adventure</td>\n",
       "      <td>9.4</td>\n",
       "      <td>2,743</td>\n",
       "      <td>NaN</td>\n",
       "      <td>(1999– )</td>\n",
       "      <td>Carrot tells Sanji the news about Pedro. Germa...</td>\n",
       "      <td>Mayumi Tanaka,Tom Henry,Masako Katsuki,Mami Ko...</td>\n",
       "      <td>TV-14</td>\n",
       "      <td>NaN</td>\n",
       "      <td>2743</td>\n",
       "      <td>1</td>\n",
       "      <td>Time for Farewell! Pudding's One Last Request!</td>\n",
       "    </tr>\n",
       "    <tr>\n",
       "      <th>45715</th>\n",
       "      <td>Marmalade Boy</td>\n",
       "      <td>Animation, Comedy, Drama</td>\n",
       "      <td>NaN</td>\n",
       "      <td>NaN</td>\n",
       "      <td>24 min</td>\n",
       "      <td>(1994–2005)</td>\n",
       "      <td>NaN</td>\n",
       "      <td>Ogie Banks,Deborah Sale Butler,John DeMita,Ric...</td>\n",
       "      <td>Not Rated</td>\n",
       "      <td>NaN</td>\n",
       "      <td>NaN</td>\n",
       "      <td>1</td>\n",
       "      <td>Hijiri naru yoru (ivu nanoni hitori bocchi...)</td>\n",
       "    </tr>\n",
       "    <tr>\n",
       "      <th>45716</th>\n",
       "      <td>Cinderella Nine</td>\n",
       "      <td>Animation, Drama, Sport</td>\n",
       "      <td>6.0</td>\n",
       "      <td>6</td>\n",
       "      <td>24 min</td>\n",
       "      <td>(2019– )</td>\n",
       "      <td>On her very first day at Satogahama Municipal ...</td>\n",
       "      <td>NaN</td>\n",
       "      <td>NaN</td>\n",
       "      <td>NaN</td>\n",
       "      <td>6</td>\n",
       "      <td>1</td>\n",
       "      <td>Play Ball!</td>\n",
       "    </tr>\n",
       "  </tbody>\n",
       "</table>\n",
       "<p>45717 rows × 13 columns</p>\n",
       "</div>"
      ],
      "text/plain": [
       "                                             Title  \\\n",
       "0                                        One Piece   \n",
       "1      Teenage Mutant Ninja Turtles: Mutant Mayhem   \n",
       "2                      The Super Mario Bros. Movie   \n",
       "3                                  Attack on Titan   \n",
       "4                                   Jujutsu Kaisen   \n",
       "...                                            ...   \n",
       "45712               Demon Slayer: Kimetsu no Yaiba   \n",
       "45713               Demon Slayer: Kimetsu no Yaiba   \n",
       "45714                                    One Piece   \n",
       "45715                                Marmalade Boy   \n",
       "45716                              Cinderella Nine   \n",
       "\n",
       "                              Genre User Rating Number of Votes Runtime  \\\n",
       "0      Animation, Action, Adventure         8.9         187,689  24 min   \n",
       "1      Animation, Action, Adventure         7.4          28,895  99 min   \n",
       "2      Animation, Adventure, Comedy         7.1         189,108  92 min   \n",
       "3      Animation, Action, Adventure         9.1         434,457  24 min   \n",
       "4      Animation, Action, Adventure         8.5          82,909  24 min   \n",
       "...                             ...         ...             ...     ...   \n",
       "45712  Animation, Action, Adventure         7.3           3,432  24 min   \n",
       "45713  Animation, Action, Adventure         7.9           3,309  24 min   \n",
       "45714  Animation, Action, Adventure         9.4           2,743     NaN   \n",
       "45715      Animation, Comedy, Drama         NaN             NaN  24 min   \n",
       "45716       Animation, Drama, Sport         6.0               6  24 min   \n",
       "\n",
       "              Year                                            Summary  \\\n",
       "0         (1999– )  Follows the adventures of Monkey D. Luffy and ...   \n",
       "1           (2023)  The film follows the Turtle brothers as they w...   \n",
       "2           (2023)  A plumber named Mario travels through an under...   \n",
       "3      (2013–2023)  After his hometown is destroyed and his mother...   \n",
       "4         (2020– )  A boy swallows a cursed talisman - the finger ...   \n",
       "...            ...                                                ...   \n",
       "45712     (2019– )  Tanjiro heads to his next location southeast; ...   \n",
       "45713     (2019– )  Tanjiro gets separated from Zenitsu when he en...   \n",
       "45714     (1999– )  Carrot tells Sanji the news about Pedro. Germa...   \n",
       "45715  (1994–2005)                                                NaN   \n",
       "45716     (2019– )  On her very first day at Satogahama Municipal ...   \n",
       "\n",
       "                                                   Stars Certificate  \\\n",
       "0      Mayumi Tanaka,Laurent Vernin,Akemi Okamura,Ton...       TV-14   \n",
       "1                                                    NaN          PG   \n",
       "2                                                    NaN          PG   \n",
       "3      Josh Grelle,Bryce Papenbrook,Yûki Kaji,Yui Ish...       TV-MA   \n",
       "4      Junya Enoki,Yûichi Nakamura,Adam McArthur,Yuma...       TV-MA   \n",
       "...                                                  ...         ...   \n",
       "45712                                                NaN       TV-14   \n",
       "45713                                                NaN       TV-MA   \n",
       "45714  Mayumi Tanaka,Tom Henry,Masako Katsuki,Mami Ko...       TV-14   \n",
       "45715  Ogie Banks,Deborah Sale Butler,John DeMita,Ric...   Not Rated   \n",
       "45716                                                NaN         NaN   \n",
       "\n",
       "        Metascore   Gross Episode  \\\n",
       "0             NaN  187689       0   \n",
       "1      74           28895       0   \n",
       "2      46          189108       0   \n",
       "3             NaN  434457       0   \n",
       "4             NaN   82909       0   \n",
       "...           ...     ...     ...   \n",
       "45712         NaN    3432       1   \n",
       "45713         NaN    3309       1   \n",
       "45714         NaN    2743       1   \n",
       "45715         NaN     NaN       1   \n",
       "45716         NaN       6       1   \n",
       "\n",
       "                                        Episode Title  \n",
       "0                                                 NaN  \n",
       "1                                                 NaN  \n",
       "2                                                 NaN  \n",
       "3                                                 NaN  \n",
       "4                                                 NaN  \n",
       "...                                               ...  \n",
       "45712                                 Tsuzumi Mansion  \n",
       "45713        The Boar Bares Its Fangs, Zenitsu Sleeps  \n",
       "45714  Time for Farewell! Pudding's One Last Request!  \n",
       "45715  Hijiri naru yoru (ivu nanoni hitori bocchi...)  \n",
       "45716                                      Play Ball!  \n",
       "\n",
       "[45717 rows x 13 columns]"
      ]
     },
     "execution_count": 7,
     "metadata": {},
     "output_type": "execute_result"
    }
   ],
   "source": [
    "data1"
   ]
  },
  {
   "cell_type": "code",
   "execution_count": 8,
   "id": "fd82f2f0",
   "metadata": {},
   "outputs": [
    {
     "name": "stdout",
     "output_type": "stream",
     "text": [
      "<class 'pandas.core.frame.DataFrame'>\n",
      "RangeIndex: 45717 entries, 0 to 45716\n",
      "Data columns (total 13 columns):\n",
      " #   Column           Non-Null Count  Dtype \n",
      "---  ------           --------------  ----- \n",
      " 0   Title            45717 non-null  object\n",
      " 1   Genre            45717 non-null  object\n",
      " 2   User Rating      25009 non-null  object\n",
      " 3   Number of Votes  25009 non-null  object\n",
      " 4   Runtime          32549 non-null  object\n",
      " 5   Year             45591 non-null  object\n",
      " 6   Summary          23547 non-null  object\n",
      " 7   Stars            13676 non-null  object\n",
      " 8   Certificate      28694 non-null  object\n",
      " 9   Metascore        341 non-null    object\n",
      " 10  Gross            25009 non-null  object\n",
      " 11  Episode          45717 non-null  object\n",
      " 12  Episode Title    34910 non-null  object\n",
      "dtypes: object(13)\n",
      "memory usage: 4.5+ MB\n"
     ]
    }
   ],
   "source": [
    "data1.info()"
   ]
  },
  {
   "cell_type": "code",
   "execution_count": 9,
   "id": "e16f1767",
   "metadata": {},
   "outputs": [],
   "source": [
    "#How many unique anime are there?"
   ]
  },
  {
   "cell_type": "code",
   "execution_count": 10,
   "id": "2b4bc128",
   "metadata": {},
   "outputs": [
    {
     "data": {
      "text/plain": [
       "(9851,)"
      ]
     },
     "execution_count": 10,
     "metadata": {},
     "output_type": "execute_result"
    }
   ],
   "source": [
    "data1[\"Title\"].unique().shape"
   ]
  },
  {
   "cell_type": "code",
   "execution_count": null,
   "id": "9bd466f2",
   "metadata": {},
   "outputs": [],
   "source": [
    "#9851 unique anime are there"
   ]
  },
  {
   "cell_type": "code",
   "execution_count": null,
   "id": "e3655510",
   "metadata": {},
   "outputs": [],
   "source": []
  },
  {
   "cell_type": "code",
   "execution_count": null,
   "id": "c9380b3f",
   "metadata": {},
   "outputs": [],
   "source": [
    "#Which anime has the highest rating?"
   ]
  },
  {
   "cell_type": "code",
   "execution_count": 14,
   "id": "af17365b",
   "metadata": {},
   "outputs": [],
   "source": [
    "data1=data1.replace({'User Rating':{'User Rating':0,np.nan:0}})"
   ]
  },
  {
   "cell_type": "code",
   "execution_count": 15,
   "id": "29ddd2ae",
   "metadata": {},
   "outputs": [],
   "source": [
    "data1=data1.astype({'User Rating':float})"
   ]
  },
  {
   "cell_type": "code",
   "execution_count": 11,
   "id": "805c8ff4",
   "metadata": {},
   "outputs": [
    {
     "data": {
      "text/plain": [
       "13656                      Idaten Jump\n",
       "17874                     Vinland Saga\n",
       "22753                  Attack on Titan\n",
       "34677                  Hunter x Hunter\n",
       "39614    Legend of the Galactic Heroes\n",
       "45689                  Attack on Titan\n",
       "Name: Title, dtype: object"
      ]
     },
     "execution_count": 11,
     "metadata": {},
     "output_type": "execute_result"
    }
   ],
   "source": [
    "data1['Title'][data1['User Rating']==data1['User Rating'].max()]"
   ]
  },
  {
   "cell_type": "code",
   "execution_count": null,
   "id": "9758fe4c",
   "metadata": {},
   "outputs": [],
   "source": [
    "#Idaten Jump,Vinland Saga,Attack on Titan,Hunter x Hunter,Legend of the Galactic Heroes animes has the highest rating"
   ]
  },
  {
   "cell_type": "code",
   "execution_count": null,
   "id": "25391662",
   "metadata": {},
   "outputs": [],
   "source": []
  },
  {
   "cell_type": "code",
   "execution_count": null,
   "id": "5cad816e",
   "metadata": {},
   "outputs": [],
   "source": [
    "#Which anime has the highest and lowest runtime?"
   ]
  },
  {
   "cell_type": "code",
   "execution_count": 19,
   "id": "40f0f557",
   "metadata": {},
   "outputs": [],
   "source": [
    "data1['Runtime']=data1['Runtime'].str.replace(' min','')"
   ]
  },
  {
   "cell_type": "code",
   "execution_count": 20,
   "id": "08a4da52",
   "metadata": {},
   "outputs": [],
   "source": [
    "data1['Runtime']=data1['Runtime'].str.replace(',','')"
   ]
  },
  {
   "cell_type": "code",
   "execution_count": 21,
   "id": "cdf23161",
   "metadata": {},
   "outputs": [],
   "source": [
    "data1=data1.replace({'Runtime':{'Runtime':0,np.nan:0}})"
   ]
  },
  {
   "cell_type": "code",
   "execution_count": 22,
   "id": "65d8a807",
   "metadata": {},
   "outputs": [],
   "source": [
    "data1=data1.astype({'Runtime':float})"
   ]
  },
  {
   "cell_type": "code",
   "execution_count": 23,
   "id": "46296b50",
   "metadata": {},
   "outputs": [
    {
     "data": {
      "text/plain": [
       "array(['The Wonderful Wizard of Oz'], dtype=object)"
      ]
     },
     "execution_count": 23,
     "metadata": {},
     "output_type": "execute_result"
    }
   ],
   "source": [
    "data1['Title'][data1['Runtime']==data1['Runtime'].max()].unique()"
   ]
  },
  {
   "cell_type": "code",
   "execution_count": 24,
   "id": "6690dda9",
   "metadata": {},
   "outputs": [
    {
     "data": {
      "text/plain": [
       "array(['My Happy Marriage', 'Scott Pilgrim Takes Off',\n",
       "       'Sonic the Hedgehog 3', ..., 'Rilakkuma and Kaoru', 'Haikyu!!',\n",
       "       'Is It Wrong to Try to Pick Up Girls in a Dungeon?'], dtype=object)"
      ]
     },
     "execution_count": 24,
     "metadata": {},
     "output_type": "execute_result"
    }
   ],
   "source": [
    "data1['Title'][data1['Runtime']==data1['Runtime'].min()].unique()"
   ]
  },
  {
   "cell_type": "code",
   "execution_count": null,
   "id": "58ea86b7",
   "metadata": {},
   "outputs": [],
   "source": [
    "#The Wonderful Wizard of Oz anime has the highest runtime\n",
    "#2889 anime has the lowest runtime they are My Happy Marriage,Scott Pilgrim Takes Off"
   ]
  },
  {
   "cell_type": "code",
   "execution_count": null,
   "id": "77ca1312",
   "metadata": {},
   "outputs": [],
   "source": []
  },
  {
   "cell_type": "code",
   "execution_count": null,
   "id": "15788b2c",
   "metadata": {},
   "outputs": [],
   "source": [
    "#List all the anime that were released in the year 2023."
   ]
  },
  {
   "cell_type": "code",
   "execution_count": 17,
   "id": "8e86d3e4",
   "metadata": {},
   "outputs": [
    {
     "data": {
      "text/plain": [
       "1        Teenage Mutant Ninja Turtles: Mutant Mayhem\n",
       "2                        The Super Mario Bros. Movie\n",
       "13                             The Boy and the Heron\n",
       "21                      Ruby Gillman, Teenage Kraken\n",
       "42                       Resident Evil: Death Island\n",
       "                            ...                     \n",
       "7965                                   Yomawari Neko\n",
       "8558            Girls und Panzer das Finale: Part IV\n",
       "8605                          Jinzô Mahô Shôjo Kaini\n",
       "8840                               The Dog & The Boy\n",
       "10314                             The Floating World\n",
       "Name: Title, Length: 105, dtype: object"
      ]
     },
     "execution_count": 17,
     "metadata": {},
     "output_type": "execute_result"
    }
   ],
   "source": [
    "data1['Title'][data1['Year']=='(2023)']"
   ]
  },
  {
   "cell_type": "code",
   "execution_count": 25,
   "id": "71d7f360",
   "metadata": {},
   "outputs": [
    {
     "data": {
      "text/plain": [
       "105"
      ]
     },
     "execution_count": 25,
     "metadata": {},
     "output_type": "execute_result"
    }
   ],
   "source": [
    "data1['Title'][data1['Year']=='(2023)'].count()"
   ]
  },
  {
   "cell_type": "code",
   "execution_count": null,
   "id": "7b1088dc",
   "metadata": {},
   "outputs": [],
   "source": [
    "#105 animes that were released in the year 2023. thet are Teenage Mutant Ninja Turtles: Mutant Mayhem,The Super Mario Bros, \n",
    "#The Boy and the Heron....."
   ]
  },
  {
   "cell_type": "code",
   "execution_count": null,
   "id": "45063334",
   "metadata": {},
   "outputs": [],
   "source": []
  },
  {
   "cell_type": "code",
   "execution_count": null,
   "id": "c4e312ca",
   "metadata": {},
   "outputs": [],
   "source": [
    "#Which anime has the lowest gross price?"
   ]
  },
  {
   "cell_type": "code",
   "execution_count": 26,
   "id": "71678293",
   "metadata": {},
   "outputs": [],
   "source": [
    "data1=data1.replace({'Gross':{'Gross':0,np.nan:0}})"
   ]
  },
  {
   "cell_type": "code",
   "execution_count": 27,
   "id": "7bbe42f4",
   "metadata": {},
   "outputs": [],
   "source": [
    "data1=data1.astype({'Gross':int})"
   ]
  },
  {
   "cell_type": "code",
   "execution_count": 28,
   "id": "fddc2d25",
   "metadata": {},
   "outputs": [
    {
     "data": {
      "text/plain": [
       "47     WALL·E\n",
       "888    WALL·E\n",
       "Name: Title, dtype: object"
      ]
     },
     "execution_count": 28,
     "metadata": {},
     "output_type": "execute_result"
    }
   ],
   "source": [
    "data1['Title'][data1['Gross']==data1['Gross'].max()]"
   ]
  },
  {
   "cell_type": "code",
   "execution_count": 29,
   "id": "0c6195e7",
   "metadata": {},
   "outputs": [
    {
     "data": {
      "text/plain": [
       "26       The Lord of the Rings: The War of the Rohirrim\n",
       "53                              Scott Pilgrim Takes Off\n",
       "95                                 Sonic the Hedgehog 3\n",
       "160                                        Inside Out 2\n",
       "241                                      Coyote v. Acme\n",
       "                              ...                      \n",
       "45698                           Fighting General Daimos\n",
       "45699                           Fighting General Daimos\n",
       "45700                           Fighting General Daimos\n",
       "45701                           Fighting General Daimos\n",
       "45715                                     Marmalade Boy\n",
       "Name: Title, Length: 20709, dtype: object"
      ]
     },
     "execution_count": 29,
     "metadata": {},
     "output_type": "execute_result"
    }
   ],
   "source": [
    "data1['Title'][data1['Gross']==data1['Gross'].min()]"
   ]
  },
  {
   "cell_type": "code",
   "execution_count": 30,
   "id": "bac1ad33",
   "metadata": {},
   "outputs": [
    {
     "data": {
      "text/plain": [
       "20709"
      ]
     },
     "execution_count": 30,
     "metadata": {},
     "output_type": "execute_result"
    }
   ],
   "source": [
    "data1['Title'][data1['Gross']==data1['Gross'].min()].count()"
   ]
  },
  {
   "cell_type": "code",
   "execution_count": null,
   "id": "b5c488ed",
   "metadata": {},
   "outputs": [],
   "source": [
    "#WALL·E anime has the highest gross price\n",
    "#20709 animes has the lowest gross price.they are The Lord of the Rings:The War of the Rohirrim,Scott Pilgrim Takes Off,\n",
    "#Sonic the Hedgehog 3....."
   ]
  },
  {
   "cell_type": "code",
   "execution_count": null,
   "id": "7359010e",
   "metadata": {},
   "outputs": [],
   "source": []
  },
  {
   "cell_type": "code",
   "execution_count": null,
   "id": "4cbff4fe",
   "metadata": {},
   "outputs": [],
   "source": [
    "#How many anime have the PG certification?"
   ]
  },
  {
   "cell_type": "code",
   "execution_count": 21,
   "id": "3d03e236",
   "metadata": {},
   "outputs": [
    {
     "data": {
      "text/plain": [
       "(425,)"
      ]
     },
     "execution_count": 21,
     "metadata": {},
     "output_type": "execute_result"
    }
   ],
   "source": [
    "data1['Title'][data1['Certificate']=='PG'].shape"
   ]
  },
  {
   "cell_type": "code",
   "execution_count": null,
   "id": "d7fb1794",
   "metadata": {},
   "outputs": [],
   "source": [
    "#425 anime have the PG certification"
   ]
  },
  {
   "cell_type": "code",
   "execution_count": null,
   "id": "33415783",
   "metadata": {},
   "outputs": [],
   "source": []
  },
  {
   "cell_type": "code",
   "execution_count": null,
   "id": "b6b477fa",
   "metadata": {},
   "outputs": [],
   "source": [
    "#What is the average number of votes in your dataset?"
   ]
  },
  {
   "cell_type": "code",
   "execution_count": 22,
   "id": "b0d7a84e",
   "metadata": {},
   "outputs": [],
   "source": [
    "data1['Number of Votes']=data1['Number of Votes'].str.replace(',','')"
   ]
  },
  {
   "cell_type": "code",
   "execution_count": 23,
   "id": "eb5da7a1",
   "metadata": {},
   "outputs": [],
   "source": [
    "data1=data1.replace({'Number of Votes':{'Number of Votes':0,np.nan:0}})"
   ]
  },
  {
   "cell_type": "code",
   "execution_count": 24,
   "id": "72ebbc46",
   "metadata": {},
   "outputs": [],
   "source": [
    "data1=data1.astype({'Number of Votes':float})"
   ]
  },
  {
   "cell_type": "code",
   "execution_count": 25,
   "id": "ff30e219",
   "metadata": {},
   "outputs": [
    {
     "data": {
      "text/plain": [
       "1632.1920510969662"
      ]
     },
     "execution_count": 25,
     "metadata": {},
     "output_type": "execute_result"
    }
   ],
   "source": [
    "data1['Number of Votes'].mean()"
   ]
  },
  {
   "cell_type": "code",
   "execution_count": null,
   "id": "aaf5492c",
   "metadata": {},
   "outputs": [],
   "source": [
    "#1632.1920510969662 is the average number of votes in your dataset"
   ]
  },
  {
   "cell_type": "code",
   "execution_count": null,
   "id": "e6adf3f1",
   "metadata": {},
   "outputs": [],
   "source": []
  },
  {
   "cell_type": "code",
   "execution_count": null,
   "id": "49a2423e",
   "metadata": {},
   "outputs": [],
   "source": [
    "#Which anime has a rating between 7.0 to 9.0?"
   ]
  },
  {
   "cell_type": "code",
   "execution_count": 18,
   "id": "96dd1895",
   "metadata": {},
   "outputs": [
    {
     "data": {
      "text/plain": [
       "(15655,)"
      ]
     },
     "execution_count": 18,
     "metadata": {},
     "output_type": "execute_result"
    }
   ],
   "source": [
    "data1['Title'][(data1['User Rating']>=7.0) & (data1['User Rating']<=9.0)].shape"
   ]
  },
  {
   "cell_type": "code",
   "execution_count": null,
   "id": "1371c465",
   "metadata": {},
   "outputs": [],
   "source": [
    "#15655anime has a rating between 7.0 to 9.0 thet are One Piece,\n",
    "#Teenage Mutant Ninja Turtles: Mutant Mayhem,The Super Mario Bros. Movie"
   ]
  },
  {
   "cell_type": "code",
   "execution_count": null,
   "id": "3d557549",
   "metadata": {},
   "outputs": [],
   "source": []
  },
  {
   "cell_type": "code",
   "execution_count": null,
   "id": "14a02f48",
   "metadata": {},
   "outputs": [],
   "source": [
    "#What is the runtime difference between one Piece and the super mario bros movie?"
   ]
  },
  {
   "cell_type": "code",
   "execution_count": 27,
   "id": "57f30e2a",
   "metadata": {},
   "outputs": [
    {
     "data": {
      "text/plain": [
       "3859.0"
      ]
     },
     "execution_count": 27,
     "metadata": {},
     "output_type": "execute_result"
    }
   ],
   "source": [
    "(data1['Runtime'][data1['Title']=='One Piece'].sum()) - (data1['Runtime'][data1['Title']=='The Super Mario Bros. Movie'].sum())"
   ]
  },
  {
   "cell_type": "code",
   "execution_count": null,
   "id": "f568b447",
   "metadata": {},
   "outputs": [],
   "source": [
    "#3859.0 is the runtime difference between one Piece and the super mario bros movie"
   ]
  },
  {
   "cell_type": "code",
   "execution_count": null,
   "id": "09978e20",
   "metadata": {},
   "outputs": [],
   "source": []
  },
  {
   "cell_type": "code",
   "execution_count": null,
   "id": "acbfe333",
   "metadata": {},
   "outputs": [],
   "source": [
    "#What is the average user rating of the anime which belong to the action genre"
   ]
  },
  {
   "cell_type": "code",
   "execution_count": 28,
   "id": "b24746b9",
   "metadata": {},
   "outputs": [],
   "source": [
    "def f1(x):\n",
    "    if \"Action\" in x:\n",
    "        return True\n",
    "    else:\n",
    "        return False"
   ]
  },
  {
   "cell_type": "code",
   "execution_count": 31,
   "id": "c290dec9",
   "metadata": {},
   "outputs": [
    {
     "data": {
      "text/plain": [
       "5.439916306053583"
      ]
     },
     "execution_count": 31,
     "metadata": {},
     "output_type": "execute_result"
    }
   ],
   "source": [
    "data1['User Rating'][data1['Genre'].apply(f1)].mean()"
   ]
  },
  {
   "cell_type": "code",
   "execution_count": null,
   "id": "2699b9c4",
   "metadata": {},
   "outputs": [],
   "source": [
    "#5.439916306053583 is the average user rating of the anime which belong to the action genre"
   ]
  },
  {
   "cell_type": "code",
   "execution_count": null,
   "id": "adc73c35",
   "metadata": {},
   "outputs": [],
   "source": []
  }
 ],
 "metadata": {
  "kernelspec": {
   "display_name": "Python 3 (ipykernel)",
   "language": "python",
   "name": "python3"
  },
  "language_info": {
   "codemirror_mode": {
    "name": "ipython",
    "version": 3
   },
   "file_extension": ".py",
   "mimetype": "text/x-python",
   "name": "python",
   "nbconvert_exporter": "python",
   "pygments_lexer": "ipython3",
   "version": "3.9.7"
  }
 },
 "nbformat": 4,
 "nbformat_minor": 5
}
